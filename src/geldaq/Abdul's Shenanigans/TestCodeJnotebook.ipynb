{
 "cells": [
  {
   "cell_type": "code",
   "execution_count": null,
   "metadata": {},
   "outputs": [],
   "source": [
    "import matplotlib.pyplot as plt\n",
    "import numpy as np\n",
    "import time\n",
    "from labjack import ljm\n",
    "\n",
    "# Open first found LabJack\n",
    "handle = ljm.openS(\"ANY\", \"ANY\", \"ANY\")  # Any device, Any connection, Any identifier\n",
    "# handle = ljm.openS(\"T7\", \"ANY\", \"ANY\")  # T7 device, Any connection, Any identifier\n",
    "# handle = ljm.openS(\"T4\", \"ANY\", \"ANY\")  # T4 device, Any connection, Any identifier\n",
    "# handle = ljm.open(ljm.constants.dtANY, ljm.constants.ctANY, \"ANY\")  # Any device, Any connection, Any identifier\n",
    "\n",
    "info = ljm.getHandleInfo(handle)\n",
    "print(\n",
    "    \"Opened a LabJack with Device type: %i, Connection type: %i,\\n\"\n",
    "    \"Serial number: %i, IP address: %s, Port: %i,\\nMax bytes per MB: %i\"\n",
    "    % (info[0], info[1], info[2], ljm.numberToIP(info[3]), info[4], info[5])\n",
    ")\n",
    "\n",
    "# Setup and call eReadName to read from AIN0 on the LabJack.\n",
    "pin = \"AIN0\"\n",
    "\n",
    "# while loop to continously read voltage, delay can be adjusted (in seconds)\n",
    "# Will write function for this in future, set the delay as a parameter (Convert to ms)\n",
    "# for use as a function parameter ex. delay = 150\n",
    "\n",
    "delay = 0.01\n",
    "\n",
    "\n",
    "# Now this loop will get data from the LabJack and plot it continously \n",
    "while True:\n",
    "    # Get voltage data from name, which is the pin (AIN0 in this case)\n",
    "    LJ_Volt_Reading = ljm.eReadName(handle, pin)\n",
    "    # Time delay between readings\n",
    "    time.sleep(delay)\n",
    "    \n",
    "    print(\"\\n%s reading : %f V\" % (pin, LJ_Volt_Reading))\n",
    "        \n",
    "    \n",
    "    # Matplotlib animation Class template \n",
    "    \"\"\"\n",
    "    class matplotlib.animation.FuncAnimation(fig, func, frames=None, init_func=None, \n",
    "    fargs=None, save_count=None, *, cache_frame_data=True, **kwargs)\n",
    "    \"\"\"\n",
    "\n",
    "    # A class can be thought of as a blueprint\n",
    "    # This function is called for each frame of the animation \n",
    "\n",
    "    \"\"\"\n",
    "    def anim_frame(i):\n",
    "        # Request the data point\n",
    "        x.append()\n",
    "        # Plot Data\n",
    "        plt.subplot()\n",
    "        return point\n",
    "\n",
    "    animation = FuncAnimation(fig, func, frames=None, init_func=None, fargs=None, save_count=None, *, cache_frame_data=True, **kwargs)\n",
    "    \"\"\"\n",
    "\n",
    "    # linspace(start, end, increment)\n",
    "    # Automatically plots all values of linspace without the need for a loop\n",
    "\n",
    "\n",
    "\n",
    "\n",
    "\n"
   ]
  }
 ],
 "metadata": {
  "kernelspec": {
   "display_name": "Python 3.10.6 ('.venv': venv)",
   "language": "python",
   "name": "python3"
  },
  "language_info": {
   "codemirror_mode": {
    "name": "ipython",
    "version": 3
   },
   "file_extension": ".py",
   "mimetype": "text/x-python",
   "name": "python",
   "nbconvert_exporter": "python",
   "pygments_lexer": "ipython3",
   "version": "3.10.6"
  },
  "orig_nbformat": 4,
  "vscode": {
   "interpreter": {
    "hash": "71432a6ed8cea29c50dab9254290890ec860fec8d139751e6d8b598d924164c9"
   }
  }
 },
 "nbformat": 4,
 "nbformat_minor": 2
}
