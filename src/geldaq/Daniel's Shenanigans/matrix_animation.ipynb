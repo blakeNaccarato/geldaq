{
 "cells": [
  {
   "cell_type": "code",
   "execution_count": null,
   "metadata": {},
   "outputs": [],
   "source": [
    "#In (x,y) let x = row, y = column in punnett square\n",
    "#matrix = [(1,1), (1,2),(2,1),(2,2)]\n",
    "Reading=15 #in mV\n",
    "if Reading>=15:\n",
    "    print(light)\n",
    "#for element in matrix:\n",
    "    #if (1,1) == True and (1,2) == False and (2,1) == False and (2,2) == False:\n",
    "        #light = (1,1);\n",
    "        #print(light)"
   ]
  },
  {
   "cell_type": "code",
   "execution_count": null,
   "metadata": {},
   "outputs": [],
   "source": [
    "matrix = [[(1,1), (1,2)],[(2,1),(2,2)]]\n",
    "if (1,2) = true and (1,1), (2,1), (2,2) = False\n",
    "(1,2) = light"
   ]
  },
  {
   "cell_type": "code",
   "execution_count": null,
   "metadata": {},
   "outputs": [],
   "source": [
    "matrix = [[(1,1), (1,2)],[(2,1),(2,2)]]\n",
    "if (2,1) = true and (1,2), (1,1), (2,2) = False\n",
    "(2,1) = light"
   ]
  },
  {
   "cell_type": "code",
   "execution_count": null,
   "metadata": {},
   "outputs": [],
   "source": [
    "matrix = [[(1,1), (1,2)],[(2,1),(2,2)]]\n",
    "if (1,1) = true and (1,2), (2,1), (2,2) = False\n",
    "(2,2) = light"
   ]
  },
  {
   "cell_type": "code",
   "execution_count": null,
   "metadata": {},
   "outputs": [],
   "source": [
    "from phue import Bridge\n",
    "from ip_address import bridge_ip_address\n",
    "import time\n",
    "\n",
    "def access_lights(bridge_ip_address):\n",
    "    b = Bridge(bridge_ip_address)\n",
    "    light_names_list = b.get_light_objects('name')\n",
    "    return light_names_list\n",
    "\n",
    "def film_lights():\n",
    "    lights = access_lights(bridge_ip_address)\n",
    "    for light in lights:\n",
    "        lights[light].on = True\n",
    "        lights[light].hue = 7000\n",
    "        lights[light].saturation = 100\n",
    "\n",
    "def danger_mode():\n",
    "    lights = access_lights(bridge_ip_address)\n",
    "    while True:\n",
    "        time.sleep(1)\n",
    "        for light in lights:\n",
    "            lights[light].on = True\n",
    "            lights[light].hue = 180\n",
    "            lights[light].saturation = 100\n",
    "        time.sleep(1)\n",
    "        for light in lights:\n",
    "            lights[light].on = True\n",
    "            lights[light].hue = 7000\n",
    "            lights[light].saturation = 100\n",
    "\n",
    "\n",
    "\n",
    "\n",
    "if __name__ == '__main__':\n",
    "    film_lights()"
   ]
  },
  {
   "cell_type": "code",
   "execution_count": null,
   "metadata": {},
   "outputs": [],
   "source": [
    "./setup.ps1"
   ]
  }
 ],
 "metadata": {
  "kernelspec": {
   "display_name": ".venv",
   "language": "python",
   "name": "python3"
  },
  "language_info": {
   "codemirror_mode": {
    "name": "ipython",
    "version": 3
   },
   "file_extension": ".py",
   "mimetype": "text/x-python",
   "name": "python",
   "nbconvert_exporter": "python",
   "pygments_lexer": "ipython3"
  },
  "vscode": {
   "interpreter": {
    "hash": "731e53aca1bff95aba9f5d0d730b760ec5fc270f0a87172156a77d3a892bca78"
   }
  }
 },
 "nbformat": 4,
 "nbformat_minor": 2
}
