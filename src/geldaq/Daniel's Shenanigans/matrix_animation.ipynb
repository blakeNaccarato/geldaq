{
 "cells": [
  {
   "cell_type": "code",
   "execution_count": null,
   "metadata": {},
   "outputs": [],
   "source": [
    "matrix = [[(1,1), (1,2)],[(2,1),(2,2)]]\n",
    "if (1,1) = true and (1,2), (2,1), (2,2) = False\n",
    "(1,1) = light"
   ]
  },
  {
   "cell_type": "code",
   "execution_count": null,
   "metadata": {},
   "outputs": [],
   "source": [
    "matrix = [[(1,1), (1,2)],[(2,1),(2,2)]]\n",
    "if (1,2) = true and (1,1), (2,1), (2,2) = False\n",
    "(1,2) = light"
   ]
  },
  {
   "cell_type": "code",
   "execution_count": null,
   "metadata": {},
   "outputs": [],
   "source": [
    "matrix = [[(1,1), (1,2)],[(2,1),(2,2)]]\n",
    "if (2,1) = true and (1,2), (1,1), (2,2) = False\n",
    "(2,1) = light"
   ]
  },
  {
   "cell_type": "code",
   "execution_count": null,
   "metadata": {},
   "outputs": [],
   "source": [
    "matrix = [[(1,1), (1,2)],[(2,1),(2,2)]]\n",
    "if (1,1) = true and (1,2), (2,1), (2,2) = False\n",
    "(2,2) = light"
   ]
  },
  {
   "cell_type": "code",
   "execution_count": null,
   "metadata": {},
   "outputs": [],
   "source": [
    "from phue import Bridge\n",
    "from ip_address import bridge_ip_address\n",
    "import time\n",
    "\n",
    "def access_lights(bridge_ip_address):\n",
    "    b = Bridge(bridge_ip_address)\n",
    "    light_names_list = b.get_light_objects('name')\n",
    "    return light_names_list\n",
    "\n",
    "def film_lights():\n",
    "    lights = access_lights(bridge_ip_address)\n",
    "    for light in lights:\n",
    "        lights[light].on = True\n",
    "        lights[light].hue = 7000\n",
    "        lights[light].saturation = 100\n",
    "\n",
    "def danger_mode():\n",
    "    lights = access_lights(bridge_ip_address)\n",
    "    while True:\n",
    "        time.sleep(1)\n",
    "        for light in lights:\n",
    "            lights[light].on = True\n",
    "            lights[light].hue = 180\n",
    "            lights[light].saturation = 100\n",
    "        time.sleep(1)\n",
    "        for light in lights:\n",
    "            lights[light].on = True\n",
    "            lights[light].hue = 7000\n",
    "            lights[light].saturation = 100\n",
    "\n",
    "\n",
    "\n",
    "\n",
    "if __name__ == '__main__':\n",
    "    film_lights()"
   ]
  },
  {
   "cell_type": "code",
   "execution_count": null,
   "metadata": {},
   "outputs": [],
   "source": [
    "./setup.ps1"
   ]
  }
 ],
 "metadata": {
  "language_info": {
   "name": "python"
  }
 },
 "nbformat": 4,
 "nbformat_minor": 2
}
